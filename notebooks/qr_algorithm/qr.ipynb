{
 "cells": [
  {
   "cell_type": "markdown",
   "id": "4894a51a",
   "metadata": {},
   "source": [
    "# Различные реализации qr алгоритма (решение полной задачи собственных значений)"
   ]
  },
  {
   "cell_type": "code",
   "execution_count": 1,
   "id": "e8975d1a",
   "metadata": {},
   "outputs": [],
   "source": [
    "import numpy as np"
   ]
  },
  {
   "cell_type": "code",
   "execution_count": 3,
   "id": "323072bc",
   "metadata": {},
   "outputs": [],
   "source": [
    "import numpy as np\n",
    "\n",
    "def qr_algorithm(A, max_iter=1000, tol=1e-10):\n",
    "    \"\"\"\n",
    "    QR-алгоритм для вычисления собственных значений матрицы A.\n",
    "    \n",
    "    Parameters:\n",
    "        A (ndarray): Квадратная матрица (n x n).\n",
    "        max_iter (int): Максимальное число итераций.\n",
    "        tol (float): Допуск для сходимости (по норме разности).\n",
    "    \n",
    "    Returns:\n",
    "        eigenvalues (ndarray): Приближённые собственные значения (диагональ итоговой матрицы).\n",
    "    \"\"\"\n",
    "    A_k = A.copy()\n",
    "    n = A.shape[0]\n",
    "    \n",
    "    for i in range(max_iter):\n",
    "        Q, R = np.linalg.qr(A_k)\n",
    "        A_next = R @ Q\n",
    "        \n",
    "        # Проверка сходимости\n",
    "        if np.allclose(A_k, A_next, atol=tol):\n",
    "            break\n",
    "        \n",
    "        A_k = A_next\n",
    "    \n",
    "    return np.diag(A_k)\n"
   ]
  },
  {
   "cell_type": "code",
   "execution_count": 5,
   "id": "c47594aa",
   "metadata": {},
   "outputs": [
    {
     "name": "stdout",
     "output_type": "stream",
     "text": [
      "EigResult(eigenvalues=array([ 6.84462111, -2.19751698,  1.08436446,  2.26853141]), eigenvectors=array([[ 0.71804596,  0.17670517, -0.64226001, -0.2017111 ],\n",
      "       [ 0.22115299,  0.17810047,  0.54418785, -0.78944991],\n",
      "       [-0.55735138, -0.28766803, -0.52022185, -0.57963417],\n",
      "       [ 0.35335647, -0.92428492,  0.14398227, -0.010281  ]]))\n",
      "Собственные значения: [ 6.84462111  2.26853141 -2.19751698  1.08436446]\n"
     ]
    }
   ],
   "source": [
    "A = np.array([[4, 1, -2, 2],\n",
    "                  [1, 2, 0, 1],\n",
    "                  [-2, 0, 3, -2],\n",
    "                  [2, 1, -2, -1]], dtype=float)\n",
    "eigs_lib = np.linalg.eig(A)\n",
    "eigs = qr_algorithm(A)\n",
    "print(eigs_lib)\n",
    "print(\"Собственные значения:\", eigs)"
   ]
  },
  {
   "cell_type": "code",
   "execution_count": null,
   "id": "32ba68a6",
   "metadata": {},
   "outputs": [],
   "source": []
  }
 ],
 "metadata": {
  "kernelspec": {
   "display_name": ".venv",
   "language": "python",
   "name": "python3"
  },
  "language_info": {
   "codemirror_mode": {
    "name": "ipython",
    "version": 3
   },
   "file_extension": ".py",
   "mimetype": "text/x-python",
   "name": "python",
   "nbconvert_exporter": "python",
   "pygments_lexer": "ipython3",
   "version": "3.12.3"
  }
 },
 "nbformat": 4,
 "nbformat_minor": 5
}
